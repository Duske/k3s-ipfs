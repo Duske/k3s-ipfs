{
 "cells": [
  {
   "cell_type": "code",
   "execution_count": 2,
   "metadata": {},
   "outputs": [
    {
     "data": {
      "image/png": "[encoded data removed]",
      "text/plain": [
       "<Figure size 648x432 with 1 Axes>"
      ]
     },
     "metadata": {
      "needs_background": "light"
     },
     "output_type": "display_data"
    }
   ],
   "source": [
    "import numpy\n",
    "from scipy.optimize import curve_fit\n",
    "from matplotlib.ticker import MaxNLocator\n",
    "import matplotlib.pyplot as plt\n",
    "import pandas as pd\n",
    "size=15\n",
    "params = {'legend.fontsize': 'large',\n",
    "          'figure.figsize': (9,6),\n",
    "          'axes.labelsize': size,\n",
    "          'axes.titlesize': size,\n",
    "          'xtick.labelsize': size*0.75,\n",
    "          'ytick.labelsize': size*0.75,\n",
    "          'axes.titlepad': 25}\n",
    "plt.rcParams.update(params)\n",
    "\n",
    "df1 = pd.read_csv(\"Cluster-100mb-10-series.csv\", sep=';')\n",
    "df1_mean= df1.mean().to_numpy()/1000\n",
    "df1_max= df1.max().to_numpy()/1000\n",
    "df1_min= df1.min().to_numpy()/1000\n",
    "\n",
    "sizes = [1,5,10,15,20,25]\n",
    "fig = plt.figure()\n",
    "ax = fig.gca()\n",
    "plt.plot(sizes, df1_mean, 'o-', color='#1A3A82', label=\"Durchschnitt\")\n",
    "plt.fill_between(x=sizes,y1=df1_min,y2=df1_max, color='#C9ECFF', label='Max/Min')\n",
    "plt.xlabel('Clustergröße')\n",
    "plt.ylabel('Zeit [s]')\n",
    "plt.xticks(sizes)\n",
    "plt.legend(title=\"\", loc='upper left')\n",
    "#plt.title(\"Laden einer Datei: 100MB\")\n",
    "fig.savefig('cluster-ipfs-100mb.pdf')\n"
   ]
  },
  {
   "cell_type": "code",
   "execution_count": null,
   "metadata": {},
   "outputs": [],
   "source": [
    "import numpy\n",
    "\n",
    "from scipy.optimize import curve_fit\n",
    "from matplotlib.ticker import MaxNLocator\n",
    "import matplotlib.pyplot as plt\n",
    "import pandas as pd\n",
    "size=15\n",
    "params = {'legend.fontsize': 'large',\n",
    "          'figure.figsize': (9,6),\n",
    "          'axes.labelsize': size,\n",
    "          'axes.titlesize': size,\n",
    "          'xtick.labelsize': size*0.75,\n",
    "          'ytick.labelsize': size*0.75,\n",
    "          'axes.titlepad': 25}\n",
    "plt.rcParams.update(params)\n",
    "\n",
    "df1 = pd.read_csv(\"Cluster-10mb-50-series.csv\", sep=';')\n",
    "df1_mean= df1.mean().to_numpy()/1000\n",
    "df1_max= df1.max().to_numpy()/1000\n",
    "df1_min= df1.min().to_numpy()/1000\n",
    "\n",
    "sizes = [1,5,10,15,20,25]\n",
    "fig = plt.figure()\n",
    "ax = fig.gca()\n",
    "plt.plot(sizes, df1_mean, 'o-', color='#1A3A82', label=\"Durchschnitt\")\n",
    "plt.fill_between(x=sizes,y1=df1_min,y2=df1_max, color='#C9ECFF', label='Max/Min')\n",
    "plt.xlabel('Clustergröße')\n",
    "plt.ylabel('Zeit [s]')\n",
    "plt.xticks(sizes)\n",
    "plt.legend(title=\"\", loc='upper right')\n",
    "#plt.title(\"Laden einer Datei: 10MB\")\n",
    "fig.savefig('cluster-ipfs-10mb.pdf')\n"
   ]
  },
  {
   "cell_type": "code",
   "execution_count": null,
   "metadata": {},
   "outputs": [],
   "source": [
    "import numpy\n",
    "from scipy.optimize import curve_fit\n",
    "from matplotlib.ticker import MaxNLocator\n",
    "import matplotlib.pyplot as plt\n",
    "import pandas as pd\n",
    "size=15\n",
    "params = {'legend.fontsize': 'large',\n",
    "          'figure.figsize': (9,6),\n",
    "          'axes.labelsize': size,\n",
    "          'axes.titlesize': size,\n",
    "          'xtick.labelsize': size*0.75,\n",
    "          'ytick.labelsize': size*0.75,\n",
    "          'axes.titlepad': 25}\n",
    "plt.rcParams.update(params)\n",
    "\n",
    "df1 = pd.read_csv(\"Cluster-1mb-50-series.csv\", sep=';')\n",
    "df1_mean= df1.mean().to_numpy()/1000\n",
    "df1_max= df1.max().to_numpy()/1000\n",
    "df1_min= df1.min().to_numpy()/1000\n",
    "\n",
    "sizes = [1,5,10,15,20,25]\n",
    "fig = plt.figure()\n",
    "ax = fig.gca()\n",
    "plt.plot(sizes, df1_mean, 'o-', color='#1A3A82', label=\"Durchschnitt\")\n",
    "plt.fill_between(x=sizes,y1=df1_min,y2=df1_max, color='#C9ECFF', label='Max/Min')\n",
    "plt.xlabel('Clustergröße')\n",
    "plt.ylabel('Zeit [s]')\n",
    "plt.xticks(sizes)\n",
    "plt.legend(title=\"\", loc='upper right')\n",
    "#plt.title(\"Laden einer Datei: 1MB\")\n",
    "fig.savefig('cluster-ipfs-1mb.pdf')\n"
   ]
  },
  {
   "cell_type": "code",
   "execution_count": null,
   "metadata": {},
   "outputs": [],
   "source": []
  }
 ],
 "metadata": {
  "kernelspec": {
   "display_name": "Python 3",
   "language": "python",
   "name": "python3"
  },
  "language_info": {
   "codemirror_mode": {
    "name": "ipython",
    "version": 3
   },
   "file_extension": ".py",
   "mimetype": "text/x-python",
   "name": "python",
   "nbconvert_exporter": "python",
   "pygments_lexer": "ipython3",
   "version": "3.6.7"
  }
 },
 "nbformat": 4,
 "nbformat_minor": 2
}
